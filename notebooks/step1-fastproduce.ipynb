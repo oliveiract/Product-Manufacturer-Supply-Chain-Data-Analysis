{
 "cells": [
  {
   "cell_type": "markdown",
   "metadata": {},
   "source": [
    "# 0.0. Imports"
   ]
  },
  {
   "cell_type": "code",
   "execution_count": 95,
   "metadata": {},
   "outputs": [],
   "source": [
    "import pandas as pd\n",
    "import numpy as np\n",
    "import datetime\n",
    "import seaborn                                                          as sns\n",
    "import matplotlib.pyplot                                                as plt\n",
    "\n",
    "from IPython.core.display           import HTML\n",
    "from IPython.display                import Image\n",
    "import warnings\n",
    "warnings.filterwarnings('ignore')"
   ]
  },
  {
   "cell_type": "markdown",
   "metadata": {},
   "source": [
    "## 0.1. Helper Functions"
   ]
  },
  {
   "cell_type": "code",
   "execution_count": 96,
   "metadata": {},
   "outputs": [
    {
     "data": {
      "text/html": [
       "<style>.container {width: 80% !important;}</style>"
      ],
      "text/plain": [
       "<IPython.core.display.HTML object>"
      ]
     },
     "metadata": {},
     "output_type": "display_data"
    },
    {
     "data": {
      "image/png": "[encoded data removed]",
      "text/plain": [
       "<Figure size 1500x100 with 1 Axes>"
      ]
     },
     "metadata": {},
     "output_type": "display_data"
    }
   ],
   "source": [
    "def jupyter_settings():\n",
    "    %matplotlib inline\n",
    "\n",
    "    plt.style.use('_classic_test_patch')\n",
    "    plt.rcParams['figure.figsize'] = [22,12]\n",
    "    plt.rcParams['font.size'] = 20\n",
    "    plt.rcParams['font.family'] = 'serif'\n",
    "    plt.rcParams['font.serif'] = 'Ubuntu'\n",
    "    plt.rcParams['font.monospace'] = 'Ubuntu Mono'\n",
    "    plt.rcParams['font.size'] = 12\n",
    "    plt.rcParams['axes.labelsize'] = 14\n",
    "    plt.rcParams['axes.labelweight'] = 'bold'\n",
    "    plt.rcParams['font.weight'] = 'bold'\n",
    "    plt.rcParams['axes.titlesize'] = 15\n",
    "    plt.rcParams['xtick.labelsize'] = 13\n",
    "    plt.rcParams['ytick.labelsize'] = 13\n",
    "    plt.rcParams['legend.fontsize'] = 12\n",
    "    plt.rcParams['figure.titlesize'] = 12\n",
    "    \n",
    "    display(HTML ('<style>.container {width: 80% !important;}</style>'))\n",
    "    pd.options.display.max_columns = None\n",
    "    pd.options.display.max_rows = None\n",
    "    pd.set_option('display.expand_frame_repr', False)\n",
    "        \n",
    "    palette = [\"#A556A5\", \"#d1ba10\", \"#004049\", \"#9daf5b\", \"#821051\", \"#12809b\",\n",
    "             \"#543C66\", \"#A85C60\", \"#d8e54b\", \"#244b87\", \"#DB235A\", \"#785971\", \n",
    "             \"#c17511\", \"#7c71c4\", \"#08683D\"]    \n",
    "    \n",
    "    colors = sns.color_palette(palette=palette)\n",
    "    sns.set_palette(colors)\n",
    "    sns.palplot(palette)\n",
    "    \n",
    "jupyter_settings()\n",
    "\n",
    "def colunas (df, column_df, doq_column, date_column):\n",
    "    df[[doq_column, date_column]] = df[column_df].str.split(', ', 1, expand=True) \n",
    "    df[date_column] = pd.to_datetime(df[date_column])\n",
    "    df[date_column] = df[date_column].dt.strftime('%d-%m-%Y')\n",
    "    return df\n",
    "\n",
    "def rename_columns(df):\n",
    "    def snakecase(x):\n",
    "        return x.replace(\" \", \"_\").lower()\n",
    "\n",
    "    cols_new = [snakecase(col) for col in df.columns]\n",
    "    df.columns = cols_new\n",
    "    return df\n",
    "\n",
    "def column_date(df, column_date):\n",
    "    df[column_date] = pd.to_datetime(df[column_date]).dt.strftime('%d-%m-%Y')\n",
    "    return df\n",
    "\n",
    "def column_month_year (df, column_date):\n",
    "    df[column_date] = pd.to_datetime(df[column_date])\n",
    "    df[column_date] = df[column_date].dt.strftime('%m-%Y')\n",
    "    return df\n",
    "    "
   ]
  },
  {
   "cell_type": "markdown",
   "metadata": {},
   "source": [
    "## 0.2. Loading Data"
   ]
  },
  {
   "cell_type": "code",
   "execution_count": 97,
   "metadata": {},
   "outputs": [],
   "source": [
    "fact_order_lines =  pd.read_csv(\"../dataset/fact_order_lines.csv\")\n",
    "dim_customers = pd.read_csv(\"../dataset/dim_customers.csv\")\n",
    "dim_date =  pd.read_csv(\"../dataset/dim_date.csv\")\n",
    "dim_products =  pd.read_csv(\"../dataset/dim_products.csv\")\n",
    "dim_targets_orders =  pd.read_csv(\"../dataset/dim_targets_orders.csv\")"
   ]
  },
  {
   "cell_type": "markdown",
   "metadata": {},
   "source": [
    "# 1.0. Data Description"
   ]
  },
  {
   "cell_type": "markdown",
   "metadata": {},
   "source": [
    "## 1.1. Transform Columns"
   ]
  },
  {
   "cell_type": "markdown",
   "metadata": {},
   "source": [
    "### 1.1.1. DataFrame fact_order_lines: dividir colunas, converter colunas texto para formato datetime, formatar a data no novo formato e renomear colunas"
   ]
  },
  {
   "cell_type": "code",
   "execution_count": 98,
   "metadata": {},
   "outputs": [
    {
     "data": {
      "text/html": [
       "<div>\n",
       "<style scoped>\n",
       "    .dataframe tbody tr th:only-of-type {\n",
       "        vertical-align: middle;\n",
       "    }\n",
       "\n",
       "    .dataframe tbody tr th {\n",
       "        vertical-align: top;\n",
       "    }\n",
       "\n",
       "    .dataframe thead th {\n",
       "        text-align: right;\n",
       "    }\n",
       "</style>\n",
       "<table border=\"1\" class=\"dataframe\">\n",
       "  <thead>\n",
       "    <tr style=\"text-align: right;\">\n",
       "      <th></th>\n",
       "      <th>order_id</th>\n",
       "      <th>order_placement_date</th>\n",
       "      <th>customer_id</th>\n",
       "      <th>product_id</th>\n",
       "      <th>order_qty</th>\n",
       "      <th>agreed_delivery_date</th>\n",
       "      <th>actual_delivery_date</th>\n",
       "      <th>delivery_qty</th>\n",
       "      <th>In Full</th>\n",
       "      <th>On Time</th>\n",
       "      <th>On Time In Full</th>\n",
       "    </tr>\n",
       "  </thead>\n",
       "  <tbody>\n",
       "    <tr>\n",
       "      <th>0</th>\n",
       "      <td>FMR34203601</td>\n",
       "      <td>Tuesday, March 1, 2022</td>\n",
       "      <td>789203</td>\n",
       "      <td>25891601</td>\n",
       "      <td>110</td>\n",
       "      <td>Friday, March 4, 2022</td>\n",
       "      <td>Friday, March 4, 2022</td>\n",
       "      <td>110</td>\n",
       "      <td>1</td>\n",
       "      <td>1</td>\n",
       "      <td>1</td>\n",
       "    </tr>\n",
       "    <tr>\n",
       "      <th>1</th>\n",
       "      <td>FMR32320302</td>\n",
       "      <td>Tuesday, March 1, 2022</td>\n",
       "      <td>789320</td>\n",
       "      <td>25891203</td>\n",
       "      <td>347</td>\n",
       "      <td>Wednesday, March 2, 2022</td>\n",
       "      <td>Wednesday, March 2, 2022</td>\n",
       "      <td>347</td>\n",
       "      <td>1</td>\n",
       "      <td>1</td>\n",
       "      <td>1</td>\n",
       "    </tr>\n",
       "  </tbody>\n",
       "</table>\n",
       "</div>"
      ],
      "text/plain": [
       "      order_id    order_placement_date  customer_id  product_id  order_qty      agreed_delivery_date      actual_delivery_date  delivery_qty  In Full  On Time  On Time In Full\n",
       "0  FMR34203601  Tuesday, March 1, 2022       789203    25891601        110     Friday, March 4, 2022     Friday, March 4, 2022           110        1        1                1\n",
       "1  FMR32320302  Tuesday, March 1, 2022       789320    25891203        347  Wednesday, March 2, 2022  Wednesday, March 2, 2022           347        1        1                1"
      ]
     },
     "execution_count": 98,
     "metadata": {},
     "output_type": "execute_result"
    }
   ],
   "source": [
    "df_fact_order_lines = fact_order_lines.copy()\n",
    "df_fact_order_lines.head(2)"
   ]
  },
  {
   "cell_type": "code",
   "execution_count": 99,
   "metadata": {},
   "outputs": [
    {
     "data": {
      "text/html": [
       "<div>\n",
       "<style scoped>\n",
       "    .dataframe tbody tr th:only-of-type {\n",
       "        vertical-align: middle;\n",
       "    }\n",
       "\n",
       "    .dataframe tbody tr th {\n",
       "        vertical-align: top;\n",
       "    }\n",
       "\n",
       "    .dataframe thead th {\n",
       "        text-align: right;\n",
       "    }\n",
       "</style>\n",
       "<table border=\"1\" class=\"dataframe\">\n",
       "  <thead>\n",
       "    <tr style=\"text-align: right;\">\n",
       "      <th></th>\n",
       "      <th>order_id</th>\n",
       "      <th>order_placement_date</th>\n",
       "      <th>customer_id</th>\n",
       "      <th>product_id</th>\n",
       "      <th>order_qty</th>\n",
       "      <th>agreed_delivery_date</th>\n",
       "      <th>actual_delivery_date</th>\n",
       "      <th>delivery_qty</th>\n",
       "      <th>In Full</th>\n",
       "      <th>On Time</th>\n",
       "      <th>On Time In Full</th>\n",
       "      <th>dow_placement</th>\n",
       "      <th>placement_date</th>\n",
       "      <th>dow_agreed</th>\n",
       "      <th>agreed_date</th>\n",
       "      <th>dow_actual_delivery</th>\n",
       "      <th>delivery_date</th>\n",
       "    </tr>\n",
       "  </thead>\n",
       "  <tbody>\n",
       "    <tr>\n",
       "      <th>0</th>\n",
       "      <td>FMR34203601</td>\n",
       "      <td>Tuesday, March 1, 2022</td>\n",
       "      <td>789203</td>\n",
       "      <td>25891601</td>\n",
       "      <td>110</td>\n",
       "      <td>Friday, March 4, 2022</td>\n",
       "      <td>Friday, March 4, 2022</td>\n",
       "      <td>110</td>\n",
       "      <td>1</td>\n",
       "      <td>1</td>\n",
       "      <td>1</td>\n",
       "      <td>Tuesday</td>\n",
       "      <td>01-03-2022</td>\n",
       "      <td>Friday</td>\n",
       "      <td>04-03-2022</td>\n",
       "      <td>Friday</td>\n",
       "      <td>04-03-2022</td>\n",
       "    </tr>\n",
       "    <tr>\n",
       "      <th>1</th>\n",
       "      <td>FMR32320302</td>\n",
       "      <td>Tuesday, March 1, 2022</td>\n",
       "      <td>789320</td>\n",
       "      <td>25891203</td>\n",
       "      <td>347</td>\n",
       "      <td>Wednesday, March 2, 2022</td>\n",
       "      <td>Wednesday, March 2, 2022</td>\n",
       "      <td>347</td>\n",
       "      <td>1</td>\n",
       "      <td>1</td>\n",
       "      <td>1</td>\n",
       "      <td>Tuesday</td>\n",
       "      <td>01-03-2022</td>\n",
       "      <td>Wednesday</td>\n",
       "      <td>02-03-2022</td>\n",
       "      <td>Wednesday</td>\n",
       "      <td>02-03-2022</td>\n",
       "    </tr>\n",
       "  </tbody>\n",
       "</table>\n",
       "</div>"
      ],
      "text/plain": [
       "      order_id    order_placement_date  customer_id  product_id  order_qty      agreed_delivery_date      actual_delivery_date  delivery_qty  In Full  On Time  On Time In Full dow_placement placement_date dow_agreed agreed_date dow_actual_delivery delivery_date\n",
       "0  FMR34203601  Tuesday, March 1, 2022       789203    25891601        110     Friday, March 4, 2022     Friday, March 4, 2022           110        1        1                1       Tuesday     01-03-2022     Friday  04-03-2022              Friday    04-03-2022\n",
       "1  FMR32320302  Tuesday, March 1, 2022       789320    25891203        347  Wednesday, March 2, 2022  Wednesday, March 2, 2022           347        1        1                1       Tuesday     01-03-2022  Wednesday  02-03-2022           Wednesday    02-03-2022"
      ]
     },
     "execution_count": 99,
     "metadata": {},
     "output_type": "execute_result"
    }
   ],
   "source": [
    "# order_placement_date\n",
    "df_fact_order_lines = colunas(df_fact_order_lines, 'order_placement_date', 'dow_placement', 'placement_date')\n",
    "\n",
    "# agreed_delivery_date\n",
    "df_fact_order_lines = colunas(df_fact_order_lines, 'agreed_delivery_date', 'dow_agreed', 'agreed_date')\n",
    "\n",
    "# actual_delivery_date\n",
    "df_fact_order_lines = colunas(df_fact_order_lines, 'actual_delivery_date', 'dow_actual_delivery', 'delivery_date')\n",
    "\n",
    "df_fact_order_lines.head(2)"
   ]
  },
  {
   "cell_type": "code",
   "execution_count": 100,
   "metadata": {},
   "outputs": [
    {
     "data": {
      "text/html": [
       "<div>\n",
       "<style scoped>\n",
       "    .dataframe tbody tr th:only-of-type {\n",
       "        vertical-align: middle;\n",
       "    }\n",
       "\n",
       "    .dataframe tbody tr th {\n",
       "        vertical-align: top;\n",
       "    }\n",
       "\n",
       "    .dataframe thead th {\n",
       "        text-align: right;\n",
       "    }\n",
       "</style>\n",
       "<table border=\"1\" class=\"dataframe\">\n",
       "  <thead>\n",
       "    <tr style=\"text-align: right;\">\n",
       "      <th></th>\n",
       "      <th>order_id</th>\n",
       "      <th>order_placement_date</th>\n",
       "      <th>customer_id</th>\n",
       "      <th>product_id</th>\n",
       "      <th>order_qty</th>\n",
       "      <th>agreed_delivery_date</th>\n",
       "      <th>actual_delivery_date</th>\n",
       "      <th>delivery_qty</th>\n",
       "      <th>in_full</th>\n",
       "      <th>on_time</th>\n",
       "      <th>on_time_in_full</th>\n",
       "      <th>dow_placement</th>\n",
       "      <th>placement_date</th>\n",
       "      <th>dow_agreed</th>\n",
       "      <th>agreed_date</th>\n",
       "      <th>dow_actual_delivery</th>\n",
       "      <th>delivery_date</th>\n",
       "    </tr>\n",
       "  </thead>\n",
       "  <tbody>\n",
       "    <tr>\n",
       "      <th>0</th>\n",
       "      <td>FMR34203601</td>\n",
       "      <td>Tuesday, March 1, 2022</td>\n",
       "      <td>789203</td>\n",
       "      <td>25891601</td>\n",
       "      <td>110</td>\n",
       "      <td>Friday, March 4, 2022</td>\n",
       "      <td>Friday, March 4, 2022</td>\n",
       "      <td>110</td>\n",
       "      <td>1</td>\n",
       "      <td>1</td>\n",
       "      <td>1</td>\n",
       "      <td>Tuesday</td>\n",
       "      <td>01-03-2022</td>\n",
       "      <td>Friday</td>\n",
       "      <td>04-03-2022</td>\n",
       "      <td>Friday</td>\n",
       "      <td>04-03-2022</td>\n",
       "    </tr>\n",
       "    <tr>\n",
       "      <th>1</th>\n",
       "      <td>FMR32320302</td>\n",
       "      <td>Tuesday, March 1, 2022</td>\n",
       "      <td>789320</td>\n",
       "      <td>25891203</td>\n",
       "      <td>347</td>\n",
       "      <td>Wednesday, March 2, 2022</td>\n",
       "      <td>Wednesday, March 2, 2022</td>\n",
       "      <td>347</td>\n",
       "      <td>1</td>\n",
       "      <td>1</td>\n",
       "      <td>1</td>\n",
       "      <td>Tuesday</td>\n",
       "      <td>01-03-2022</td>\n",
       "      <td>Wednesday</td>\n",
       "      <td>02-03-2022</td>\n",
       "      <td>Wednesday</td>\n",
       "      <td>02-03-2022</td>\n",
       "    </tr>\n",
       "  </tbody>\n",
       "</table>\n",
       "</div>"
      ],
      "text/plain": [
       "      order_id    order_placement_date  customer_id  product_id  order_qty      agreed_delivery_date      actual_delivery_date  delivery_qty  in_full  on_time  on_time_in_full dow_placement placement_date dow_agreed agreed_date dow_actual_delivery delivery_date\n",
       "0  FMR34203601  Tuesday, March 1, 2022       789203    25891601        110     Friday, March 4, 2022     Friday, March 4, 2022           110        1        1                1       Tuesday     01-03-2022     Friday  04-03-2022              Friday    04-03-2022\n",
       "1  FMR32320302  Tuesday, March 1, 2022       789320    25891203        347  Wednesday, March 2, 2022  Wednesday, March 2, 2022           347        1        1                1       Tuesday     01-03-2022  Wednesday  02-03-2022           Wednesday    02-03-2022"
      ]
     },
     "execution_count": 100,
     "metadata": {},
     "output_type": "execute_result"
    }
   ],
   "source": [
    "df_fact_order_lines = rename_columns(df_fact_order_lines)\n",
    "df_fact_order_lines.head(2)"
   ]
  },
  {
   "cell_type": "markdown",
   "metadata": {},
   "source": [
    "### 1.1.2. DataFrame dim_date: renomear colunas, converter colunas texto para formato datetime e formatar a data no novo formato"
   ]
  },
  {
   "cell_type": "code",
   "execution_count": 101,
   "metadata": {},
   "outputs": [
    {
     "data": {
      "text/html": [
       "<div>\n",
       "<style scoped>\n",
       "    .dataframe tbody tr th:only-of-type {\n",
       "        vertical-align: middle;\n",
       "    }\n",
       "\n",
       "    .dataframe tbody tr th {\n",
       "        vertical-align: top;\n",
       "    }\n",
       "\n",
       "    .dataframe thead th {\n",
       "        text-align: right;\n",
       "    }\n",
       "</style>\n",
       "<table border=\"1\" class=\"dataframe\">\n",
       "  <thead>\n",
       "    <tr style=\"text-align: right;\">\n",
       "      <th></th>\n",
       "      <th>placement_date</th>\n",
       "      <th>monthly_year</th>\n",
       "      <th>week_month</th>\n",
       "    </tr>\n",
       "  </thead>\n",
       "  <tbody>\n",
       "    <tr>\n",
       "      <th>0</th>\n",
       "      <td>01-04-2022</td>\n",
       "      <td>04-2022</td>\n",
       "      <td>W 14</td>\n",
       "    </tr>\n",
       "  </tbody>\n",
       "</table>\n",
       "</div>"
      ],
      "text/plain": [
       "  placement_date monthly_year week_month\n",
       "0     01-04-2022      04-2022       W 14"
      ]
     },
     "execution_count": 101,
     "metadata": {},
     "output_type": "execute_result"
    }
   ],
   "source": [
    "df_dim_date = dim_date.copy()\n",
    "df_dim_date.rename(columns={'date': 'placement_date','mmm_yy': 'monthly_year', 'week_no': 'week_month'}, inplace=True)\n",
    "\n",
    "df_dim_date = column_month_year(df_dim_date, 'monthly_year')\n",
    "df_dim_date = column_date (df_dim_date, 'placement_date')\n",
    "\n",
    "df_dim_date.head(1)"
   ]
  },
  {
   "cell_type": "markdown",
   "metadata": {},
   "source": [
    "## 1.2. Merge Available Dataset"
   ]
  },
  {
   "cell_type": "code",
   "execution_count": 102,
   "metadata": {},
   "outputs": [
    {
     "name": "stdout",
     "output_type": "stream",
     "text": [
      "Colunas do dataframe fact_order_lines: Index(['order_id', 'order_placement_date', 'customer_id', 'product_id',\n",
      "       'order_qty', 'agreed_delivery_date', 'actual_delivery_date',\n",
      "       'delivery_qty', 'in_full', 'on_time', 'on_time_in_full',\n",
      "       'dow_placement', 'placement_date', 'dow_agreed', 'agreed_date',\n",
      "       'dow_actual_delivery', 'delivery_date'],\n",
      "      dtype='object')\n",
      "Colunas do dataframe dim_customers: Index(['customer_id', 'customer_name', 'city'], dtype='object')\n",
      "Colunas do dataframe dim_date: Index(['placement_date', 'monthly_year', 'week_month'], dtype='object')\n",
      "Colunas do dataframe dim_products: Index(['product_name', 'product_id', 'category'], dtype='object')\n",
      "Colunas do dataframe dim_targets_orders: Index(['customer_id', 'ontime_target%', 'infull_target%', 'otif_target%'], dtype='object')\n"
     ]
    }
   ],
   "source": [
    "col_fol = df_fact_order_lines.columns\n",
    "col_dc = dim_customers.columns\n",
    "col_dd = df_dim_date.columns\n",
    "col_dp = dim_products.columns\n",
    "col_dto = dim_targets_orders.columns\n",
    "\n",
    "print(\"Colunas do dataframe fact_order_lines:\", col_fol)\n",
    "print(\"Colunas do dataframe dim_customers:\", col_dc)\n",
    "print(\"Colunas do dataframe dim_date:\", col_dd)\n",
    "print(\"Colunas do dataframe dim_products:\", col_dp)\n",
    "print(\"Colunas do dataframe dim_targets_orders:\", col_dto)"
   ]
  },
  {
   "cell_type": "code",
   "execution_count": 103,
   "metadata": {},
   "outputs": [],
   "source": [
    "merged_df = pd.merge(df_fact_order_lines, df_dim_date, on=['placement_date'], how='left')\n",
    "merged_df2 = pd.merge(merged_df,dim_customers, on=['customer_id'], how='left')\n",
    "merged_df3 = pd.merge(merged_df2,dim_products, on=['product_id'], how='left')\n",
    "merged_final = pd.merge(merged_df3,dim_targets_orders, on=['customer_id'], how='left')"
   ]
  },
  {
   "cell_type": "code",
   "execution_count": 104,
   "metadata": {},
   "outputs": [],
   "source": [
    "df_full = merged_final[['order_id', 'customer_id', 'customer_name', 'city', 'product_id', 'product_name', 'category', \n",
    "                        'order_qty', 'dow_placement', 'placement_date', 'monthly_year', 'week_month','dow_agreed', \n",
    "                        'agreed_date',  'dow_actual_delivery', 'delivery_date', 'delivery_qty', 'in_full', 'on_time',  \n",
    "                        'on_time_in_full',  'ontime_target%', 'infull_target%', 'otif_target%']]"
   ]
  },
  {
   "cell_type": "code",
   "execution_count": 105,
   "metadata": {},
   "outputs": [
    {
     "data": {
      "text/html": [
       "<div>\n",
       "<style scoped>\n",
       "    .dataframe tbody tr th:only-of-type {\n",
       "        vertical-align: middle;\n",
       "    }\n",
       "\n",
       "    .dataframe tbody tr th {\n",
       "        vertical-align: top;\n",
       "    }\n",
       "\n",
       "    .dataframe thead th {\n",
       "        text-align: right;\n",
       "    }\n",
       "</style>\n",
       "<table border=\"1\" class=\"dataframe\">\n",
       "  <thead>\n",
       "    <tr style=\"text-align: right;\">\n",
       "      <th></th>\n",
       "      <th>order_id</th>\n",
       "      <th>customer_id</th>\n",
       "      <th>customer_name</th>\n",
       "      <th>city</th>\n",
       "      <th>product_id</th>\n",
       "      <th>product_name</th>\n",
       "      <th>category</th>\n",
       "      <th>order_qty</th>\n",
       "      <th>dow_placement</th>\n",
       "      <th>placement_date</th>\n",
       "      <th>monthly_year</th>\n",
       "      <th>week_month</th>\n",
       "      <th>dow_agreed</th>\n",
       "      <th>agreed_date</th>\n",
       "      <th>dow_actual_delivery</th>\n",
       "      <th>delivery_date</th>\n",
       "      <th>delivery_qty</th>\n",
       "      <th>in_full</th>\n",
       "      <th>on_time</th>\n",
       "      <th>on_time_in_full</th>\n",
       "      <th>ontime_target%</th>\n",
       "      <th>infull_target%</th>\n",
       "      <th>otif_target%</th>\n",
       "    </tr>\n",
       "  </thead>\n",
       "  <tbody>\n",
       "    <tr>\n",
       "      <th>0</th>\n",
       "      <td>FMR34203601</td>\n",
       "      <td>789203</td>\n",
       "      <td>Rel Fresh</td>\n",
       "      <td>Vadodara</td>\n",
       "      <td>25891601</td>\n",
       "      <td>AM Tea 500</td>\n",
       "      <td>beverages</td>\n",
       "      <td>110</td>\n",
       "      <td>Tuesday</td>\n",
       "      <td>01-03-2022</td>\n",
       "      <td>03-2022</td>\n",
       "      <td>W 10</td>\n",
       "      <td>Friday</td>\n",
       "      <td>04-03-2022</td>\n",
       "      <td>Friday</td>\n",
       "      <td>04-03-2022</td>\n",
       "      <td>110</td>\n",
       "      <td>1</td>\n",
       "      <td>1</td>\n",
       "      <td>1</td>\n",
       "      <td>92</td>\n",
       "      <td>76</td>\n",
       "      <td>70</td>\n",
       "    </tr>\n",
       "    <tr>\n",
       "      <th>1</th>\n",
       "      <td>FMR32320302</td>\n",
       "      <td>789320</td>\n",
       "      <td>Chiptec Stores</td>\n",
       "      <td>Surat</td>\n",
       "      <td>25891203</td>\n",
       "      <td>AM Butter 500</td>\n",
       "      <td>dairy</td>\n",
       "      <td>347</td>\n",
       "      <td>Tuesday</td>\n",
       "      <td>01-03-2022</td>\n",
       "      <td>03-2022</td>\n",
       "      <td>W 10</td>\n",
       "      <td>Wednesday</td>\n",
       "      <td>02-03-2022</td>\n",
       "      <td>Wednesday</td>\n",
       "      <td>02-03-2022</td>\n",
       "      <td>347</td>\n",
       "      <td>1</td>\n",
       "      <td>1</td>\n",
       "      <td>1</td>\n",
       "      <td>91</td>\n",
       "      <td>81</td>\n",
       "      <td>74</td>\n",
       "    </tr>\n",
       "    <tr>\n",
       "      <th>2</th>\n",
       "      <td>FMR33320501</td>\n",
       "      <td>789320</td>\n",
       "      <td>Chiptec Stores</td>\n",
       "      <td>Surat</td>\n",
       "      <td>25891203</td>\n",
       "      <td>AM Butter 500</td>\n",
       "      <td>dairy</td>\n",
       "      <td>187</td>\n",
       "      <td>Tuesday</td>\n",
       "      <td>01-03-2022</td>\n",
       "      <td>03-2022</td>\n",
       "      <td>W 10</td>\n",
       "      <td>Thursday</td>\n",
       "      <td>03-03-2022</td>\n",
       "      <td>Thursday</td>\n",
       "      <td>03-03-2022</td>\n",
       "      <td>150</td>\n",
       "      <td>0</td>\n",
       "      <td>1</td>\n",
       "      <td>0</td>\n",
       "      <td>91</td>\n",
       "      <td>81</td>\n",
       "      <td>74</td>\n",
       "    </tr>\n",
       "    <tr>\n",
       "      <th>3</th>\n",
       "      <td>FMR34220601</td>\n",
       "      <td>789220</td>\n",
       "      <td>Atlas Stores</td>\n",
       "      <td>Surat</td>\n",
       "      <td>25891203</td>\n",
       "      <td>AM Butter 500</td>\n",
       "      <td>dairy</td>\n",
       "      <td>235</td>\n",
       "      <td>Tuesday</td>\n",
       "      <td>01-03-2022</td>\n",
       "      <td>03-2022</td>\n",
       "      <td>W 10</td>\n",
       "      <td>Friday</td>\n",
       "      <td>04-03-2022</td>\n",
       "      <td>Friday</td>\n",
       "      <td>04-03-2022</td>\n",
       "      <td>235</td>\n",
       "      <td>1</td>\n",
       "      <td>1</td>\n",
       "      <td>1</td>\n",
       "      <td>91</td>\n",
       "      <td>76</td>\n",
       "      <td>69</td>\n",
       "    </tr>\n",
       "    <tr>\n",
       "      <th>4</th>\n",
       "      <td>FMR33703603</td>\n",
       "      <td>789703</td>\n",
       "      <td>Sorefoz Mart</td>\n",
       "      <td>Vadodara</td>\n",
       "      <td>25891203</td>\n",
       "      <td>AM Butter 500</td>\n",
       "      <td>dairy</td>\n",
       "      <td>176</td>\n",
       "      <td>Tuesday</td>\n",
       "      <td>01-03-2022</td>\n",
       "      <td>03-2022</td>\n",
       "      <td>W 10</td>\n",
       "      <td>Thursday</td>\n",
       "      <td>03-03-2022</td>\n",
       "      <td>Thursday</td>\n",
       "      <td>03-03-2022</td>\n",
       "      <td>176</td>\n",
       "      <td>1</td>\n",
       "      <td>1</td>\n",
       "      <td>1</td>\n",
       "      <td>85</td>\n",
       "      <td>78</td>\n",
       "      <td>66</td>\n",
       "    </tr>\n",
       "  </tbody>\n",
       "</table>\n",
       "</div>"
      ],
      "text/plain": [
       "      order_id  customer_id   customer_name      city  product_id   product_name   category  order_qty dow_placement placement_date monthly_year week_month dow_agreed agreed_date dow_actual_delivery delivery_date  delivery_qty  in_full  on_time  on_time_in_full  ontime_target%  infull_target%  otif_target%\n",
       "0  FMR34203601       789203       Rel Fresh  Vadodara    25891601     AM Tea 500  beverages        110       Tuesday     01-03-2022      03-2022       W 10     Friday  04-03-2022              Friday    04-03-2022           110        1        1                1              92              76            70\n",
       "1  FMR32320302       789320  Chiptec Stores     Surat    25891203  AM Butter 500      dairy        347       Tuesday     01-03-2022      03-2022       W 10  Wednesday  02-03-2022           Wednesday    02-03-2022           347        1        1                1              91              81            74\n",
       "2  FMR33320501       789320  Chiptec Stores     Surat    25891203  AM Butter 500      dairy        187       Tuesday     01-03-2022      03-2022       W 10   Thursday  03-03-2022            Thursday    03-03-2022           150        0        1                0              91              81            74\n",
       "3  FMR34220601       789220    Atlas Stores     Surat    25891203  AM Butter 500      dairy        235       Tuesday     01-03-2022      03-2022       W 10     Friday  04-03-2022              Friday    04-03-2022           235        1        1                1              91              76            69\n",
       "4  FMR33703603       789703    Sorefoz Mart  Vadodara    25891203  AM Butter 500      dairy        176       Tuesday     01-03-2022      03-2022       W 10   Thursday  03-03-2022            Thursday    03-03-2022           176        1        1                1              85              78            66"
      ]
     },
     "execution_count": 105,
     "metadata": {},
     "output_type": "execute_result"
    }
   ],
   "source": [
    "df_full['category'] = df_full['category'].str.lower()\n",
    "df_full.head()"
   ]
  },
  {
   "cell_type": "markdown",
   "metadata": {},
   "source": [
    "## 1.3. Data Dimensions"
   ]
  },
  {
   "cell_type": "code",
   "execution_count": 12,
   "metadata": {},
   "outputs": [
    {
     "name": "stdout",
     "output_type": "stream",
     "text": [
      "Number os Rows: 57096\n",
      "Number os Columns: 23\n"
     ]
    }
   ],
   "source": [
    "print ('Number os Rows: {}'.format (df_full.shape[0]))\n",
    "print ('Number os Columns: {}'.format (df_full.shape[1]))"
   ]
  },
  {
   "cell_type": "markdown",
   "metadata": {},
   "source": [
    "## 1.4. Data Types"
   ]
  },
  {
   "cell_type": "code",
   "execution_count": 13,
   "metadata": {},
   "outputs": [
    {
     "data": {
      "text/plain": [
       "order_id               object\n",
       "customer_id             int64\n",
       "customer_name          object\n",
       "city                   object\n",
       "product_id              int64\n",
       "product_name           object\n",
       "category               object\n",
       "order_qty               int64\n",
       "dow_placement          object\n",
       "placement_date         object\n",
       "monthly_year           object\n",
       "week_month             object\n",
       "dow_agreed             object\n",
       "agreed_date            object\n",
       "dow_actual_delivery    object\n",
       "delivery_date          object\n",
       "delivery_qty            int64\n",
       "in_full                 int64\n",
       "on_time                 int64\n",
       "on_time_in_full         int64\n",
       "ontime_target%          int64\n",
       "infull_target%          int64\n",
       "otif_target%            int64\n",
       "dtype: object"
      ]
     },
     "execution_count": 13,
     "metadata": {},
     "output_type": "execute_result"
    }
   ],
   "source": [
    "df_full.dtypes"
   ]
  },
  {
   "cell_type": "code",
   "execution_count": 14,
   "metadata": {},
   "outputs": [],
   "source": [
    "df_full['customer_id'] = df_full['customer_id'].astype('object')\n",
    "df_full['product_id'] = df_full['product_id'].astype('object')"
   ]
  },
  {
   "cell_type": "markdown",
   "metadata": {},
   "source": [
    "## 1.5. Check NA"
   ]
  },
  {
   "cell_type": "code",
   "execution_count": 15,
   "metadata": {},
   "outputs": [
    {
     "data": {
      "text/plain": [
       "order_id               0\n",
       "customer_id            0\n",
       "customer_name          0\n",
       "city                   0\n",
       "product_id             0\n",
       "product_name           0\n",
       "category               0\n",
       "order_qty              0\n",
       "dow_placement          0\n",
       "placement_date         0\n",
       "monthly_year           0\n",
       "week_month             0\n",
       "dow_agreed             0\n",
       "agreed_date            0\n",
       "dow_actual_delivery    0\n",
       "delivery_date          0\n",
       "delivery_qty           0\n",
       "in_full                0\n",
       "on_time                0\n",
       "on_time_in_full        0\n",
       "ontime_target%         0\n",
       "infull_target%         0\n",
       "otif_target%           0\n",
       "dtype: int64"
      ]
     },
     "execution_count": 15,
     "metadata": {},
     "output_type": "execute_result"
    }
   ],
   "source": [
    "df_full.isnull().sum()"
   ]
  },
  {
   "cell_type": "markdown",
   "metadata": {},
   "source": [
    "## 1.6. Descriptive Statistical"
   ]
  },
  {
   "cell_type": "code",
   "execution_count": 16,
   "metadata": {},
   "outputs": [],
   "source": [
    "num_attributes = df_full.select_dtypes (include = ['int64', 'float64'])\n",
    "cat_attributes = df_full[['customer_name', 'city', 'product_name', 'category']]"
   ]
  },
  {
   "cell_type": "markdown",
   "metadata": {},
   "source": [
    "### 1.5.1. Numerical Attributes"
   ]
  },
  {
   "cell_type": "code",
   "execution_count": 17,
   "metadata": {},
   "outputs": [
    {
     "data": {
      "text/html": [
       "<div>\n",
       "<style scoped>\n",
       "    .dataframe tbody tr th:only-of-type {\n",
       "        vertical-align: middle;\n",
       "    }\n",
       "\n",
       "    .dataframe tbody tr th {\n",
       "        vertical-align: top;\n",
       "    }\n",
       "\n",
       "    .dataframe thead th {\n",
       "        text-align: right;\n",
       "    }\n",
       "</style>\n",
       "<table border=\"1\" class=\"dataframe\">\n",
       "  <thead>\n",
       "    <tr style=\"text-align: right;\">\n",
       "      <th></th>\n",
       "      <th>attributes</th>\n",
       "      <th>min</th>\n",
       "      <th>max</th>\n",
       "      <th>range</th>\n",
       "      <th>mean</th>\n",
       "      <th>median</th>\n",
       "      <th>std</th>\n",
       "      <th>skew</th>\n",
       "      <th>kurtosis</th>\n",
       "    </tr>\n",
       "  </thead>\n",
       "  <tbody>\n",
       "    <tr>\n",
       "      <th>0</th>\n",
       "      <td>order_qty</td>\n",
       "      <td>20.0</td>\n",
       "      <td>500.0</td>\n",
       "      <td>480.0</td>\n",
       "      <td>235.164215</td>\n",
       "      <td>207.0</td>\n",
       "      <td>141.000549</td>\n",
       "      <td>0.295468</td>\n",
       "      <td>-1.210142</td>\n",
       "    </tr>\n",
       "    <tr>\n",
       "      <th>1</th>\n",
       "      <td>delivery_qty</td>\n",
       "      <td>16.0</td>\n",
       "      <td>500.0</td>\n",
       "      <td>484.0</td>\n",
       "      <td>227.146508</td>\n",
       "      <td>200.0</td>\n",
       "      <td>137.108264</td>\n",
       "      <td>0.324358</td>\n",
       "      <td>-1.155546</td>\n",
       "    </tr>\n",
       "    <tr>\n",
       "      <th>2</th>\n",
       "      <td>in_full</td>\n",
       "      <td>0.0</td>\n",
       "      <td>1.0</td>\n",
       "      <td>1.0</td>\n",
       "      <td>0.659608</td>\n",
       "      <td>1.0</td>\n",
       "      <td>0.473841</td>\n",
       "      <td>-0.673697</td>\n",
       "      <td>-1.546187</td>\n",
       "    </tr>\n",
       "    <tr>\n",
       "      <th>3</th>\n",
       "      <td>on_time</td>\n",
       "      <td>0.0</td>\n",
       "      <td>1.0</td>\n",
       "      <td>1.0</td>\n",
       "      <td>0.711171</td>\n",
       "      <td>1.0</td>\n",
       "      <td>0.453218</td>\n",
       "      <td>-0.931896</td>\n",
       "      <td>-1.131610</td>\n",
       "    </tr>\n",
       "    <tr>\n",
       "      <th>4</th>\n",
       "      <td>on_time_in_full</td>\n",
       "      <td>0.0</td>\n",
       "      <td>1.0</td>\n",
       "      <td>1.0</td>\n",
       "      <td>0.479543</td>\n",
       "      <td>0.0</td>\n",
       "      <td>0.499581</td>\n",
       "      <td>0.081898</td>\n",
       "      <td>-1.993363</td>\n",
       "    </tr>\n",
       "    <tr>\n",
       "      <th>5</th>\n",
       "      <td>ontime_target%</td>\n",
       "      <td>75.0</td>\n",
       "      <td>92.0</td>\n",
       "      <td>17.0</td>\n",
       "      <td>86.094192</td>\n",
       "      <td>87.0</td>\n",
       "      <td>5.544711</td>\n",
       "      <td>-0.797347</td>\n",
       "      <td>-0.676914</td>\n",
       "    </tr>\n",
       "    <tr>\n",
       "      <th>6</th>\n",
       "      <td>infull_target%</td>\n",
       "      <td>65.0</td>\n",
       "      <td>82.0</td>\n",
       "      <td>17.0</td>\n",
       "      <td>76.517234</td>\n",
       "      <td>79.0</td>\n",
       "      <td>5.425836</td>\n",
       "      <td>-1.179610</td>\n",
       "      <td>-0.143684</td>\n",
       "    </tr>\n",
       "    <tr>\n",
       "      <th>7</th>\n",
       "      <td>otif_target%</td>\n",
       "      <td>49.0</td>\n",
       "      <td>75.0</td>\n",
       "      <td>26.0</td>\n",
       "      <td>65.922394</td>\n",
       "      <td>68.0</td>\n",
       "      <td>6.519483</td>\n",
       "      <td>-0.990818</td>\n",
       "      <td>0.373428</td>\n",
       "    </tr>\n",
       "  </tbody>\n",
       "</table>\n",
       "</div>"
      ],
      "text/plain": [
       "        attributes   min    max  range        mean  median         std      skew  kurtosis\n",
       "0        order_qty  20.0  500.0  480.0  235.164215   207.0  141.000549  0.295468 -1.210142\n",
       "1     delivery_qty  16.0  500.0  484.0  227.146508   200.0  137.108264  0.324358 -1.155546\n",
       "2          in_full   0.0    1.0    1.0    0.659608     1.0    0.473841 -0.673697 -1.546187\n",
       "3          on_time   0.0    1.0    1.0    0.711171     1.0    0.453218 -0.931896 -1.131610\n",
       "4  on_time_in_full   0.0    1.0    1.0    0.479543     0.0    0.499581  0.081898 -1.993363\n",
       "5   ontime_target%  75.0   92.0   17.0   86.094192    87.0    5.544711 -0.797347 -0.676914\n",
       "6   infull_target%  65.0   82.0   17.0   76.517234    79.0    5.425836 -1.179610 -0.143684\n",
       "7     otif_target%  49.0   75.0   26.0   65.922394    68.0    6.519483 -0.990818  0.373428"
      ]
     },
     "execution_count": 17,
     "metadata": {},
     "output_type": "execute_result"
    }
   ],
   "source": [
    "# central tendency - mean, median\n",
    "ct1 = pd.DataFrame (num_attributes.apply (np.mean)).T\n",
    "ct2 = pd.DataFrame (num_attributes.apply (np.median)).T\n",
    "\n",
    "#dispersion - std, min, max, skew, kurtosis\n",
    "d1 = pd.DataFrame (num_attributes.apply (np.std)).T\n",
    "d2 = pd.DataFrame (num_attributes.apply (min)).T\n",
    "d3 = pd.DataFrame (num_attributes.apply (max)).T\n",
    "d4 = pd.DataFrame (num_attributes.apply (lambda x : x.max() - x.min())).T\n",
    "d5 = pd.DataFrame (num_attributes.apply (lambda x: x.skew())).T\n",
    "d6 = pd.DataFrame (num_attributes.apply (lambda x: x.kurtosis())).T\n",
    "\n",
    "#concatenate\n",
    "r = pd.concat([d2,d3,d4,ct1,ct2,d1,d5,d6]).T.reset_index()\n",
    "r.columns = ['attributes','min', 'max', 'range', 'mean', 'median', 'std','skew', 'kurtosis']\n",
    "r"
   ]
  },
  {
   "cell_type": "markdown",
   "metadata": {},
   "source": [
    "### 1.5.2. Categorical Attributes"
   ]
  },
  {
   "cell_type": "code",
   "execution_count": 18,
   "metadata": {},
   "outputs": [
    {
     "data": {
      "text/plain": [
       "customer_name    15\n",
       "city              3\n",
       "product_name     18\n",
       "category          3\n",
       "dtype: int64"
      ]
     },
     "execution_count": 18,
     "metadata": {},
     "output_type": "execute_result"
    }
   ],
   "source": [
    "cat_attributes.apply (lambda x: x.unique().shape[0])"
   ]
  },
  {
   "cell_type": "code",
   "execution_count": 19,
   "metadata": {},
   "outputs": [
    {
     "data": {
      "text/html": [
       "<div>\n",
       "<style scoped>\n",
       "    .dataframe tbody tr th:only-of-type {\n",
       "        vertical-align: middle;\n",
       "    }\n",
       "\n",
       "    .dataframe tbody tr th {\n",
       "        vertical-align: top;\n",
       "    }\n",
       "\n",
       "    .dataframe thead th {\n",
       "        text-align: right;\n",
       "    }\n",
       "</style>\n",
       "<table border=\"1\" class=\"dataframe\">\n",
       "  <thead>\n",
       "    <tr style=\"text-align: right;\">\n",
       "      <th></th>\n",
       "      <th>order_id</th>\n",
       "      <th>customer_id</th>\n",
       "      <th>customer_name</th>\n",
       "      <th>city</th>\n",
       "      <th>product_id</th>\n",
       "      <th>product_name</th>\n",
       "      <th>category</th>\n",
       "      <th>order_qty</th>\n",
       "      <th>dow_placement</th>\n",
       "      <th>placement_date</th>\n",
       "      <th>monthly_year</th>\n",
       "      <th>week_month</th>\n",
       "      <th>dow_agreed</th>\n",
       "      <th>agreed_date</th>\n",
       "      <th>dow_actual_delivery</th>\n",
       "      <th>delivery_date</th>\n",
       "      <th>delivery_qty</th>\n",
       "      <th>in_full</th>\n",
       "      <th>on_time</th>\n",
       "      <th>on_time_in_full</th>\n",
       "      <th>ontime_target%</th>\n",
       "      <th>infull_target%</th>\n",
       "      <th>otif_target%</th>\n",
       "    </tr>\n",
       "  </thead>\n",
       "  <tbody>\n",
       "    <tr>\n",
       "      <th>0</th>\n",
       "      <td>FMR34203601</td>\n",
       "      <td>789203</td>\n",
       "      <td>Rel Fresh</td>\n",
       "      <td>Vadodara</td>\n",
       "      <td>25891601</td>\n",
       "      <td>AM Tea 500</td>\n",
       "      <td>beverages</td>\n",
       "      <td>110</td>\n",
       "      <td>Tuesday</td>\n",
       "      <td>01-03-2022</td>\n",
       "      <td>03-2022</td>\n",
       "      <td>W 10</td>\n",
       "      <td>Friday</td>\n",
       "      <td>04-03-2022</td>\n",
       "      <td>Friday</td>\n",
       "      <td>04-03-2022</td>\n",
       "      <td>110</td>\n",
       "      <td>1</td>\n",
       "      <td>1</td>\n",
       "      <td>1</td>\n",
       "      <td>92</td>\n",
       "      <td>76</td>\n",
       "      <td>70</td>\n",
       "    </tr>\n",
       "    <tr>\n",
       "      <th>1</th>\n",
       "      <td>FMR35203601</td>\n",
       "      <td>789203</td>\n",
       "      <td>Rel Fresh</td>\n",
       "      <td>Vadodara</td>\n",
       "      <td>25891601</td>\n",
       "      <td>AM Tea 500</td>\n",
       "      <td>beverages</td>\n",
       "      <td>55</td>\n",
       "      <td>Wednesday</td>\n",
       "      <td>02-03-2022</td>\n",
       "      <td>03-2022</td>\n",
       "      <td>W 10</td>\n",
       "      <td>Saturday</td>\n",
       "      <td>05-03-2022</td>\n",
       "      <td>Saturday</td>\n",
       "      <td>05-03-2022</td>\n",
       "      <td>55</td>\n",
       "      <td>1</td>\n",
       "      <td>1</td>\n",
       "      <td>1</td>\n",
       "      <td>92</td>\n",
       "      <td>76</td>\n",
       "      <td>70</td>\n",
       "    </tr>\n",
       "    <tr>\n",
       "      <th>2</th>\n",
       "      <td>FMR39203601</td>\n",
       "      <td>789203</td>\n",
       "      <td>Rel Fresh</td>\n",
       "      <td>Vadodara</td>\n",
       "      <td>25891601</td>\n",
       "      <td>AM Tea 500</td>\n",
       "      <td>beverages</td>\n",
       "      <td>102</td>\n",
       "      <td>Sunday</td>\n",
       "      <td>06-03-2022</td>\n",
       "      <td>03-2022</td>\n",
       "      <td>W 11</td>\n",
       "      <td>Wednesday</td>\n",
       "      <td>09-03-2022</td>\n",
       "      <td>Wednesday</td>\n",
       "      <td>09-03-2022</td>\n",
       "      <td>102</td>\n",
       "      <td>1</td>\n",
       "      <td>1</td>\n",
       "      <td>1</td>\n",
       "      <td>92</td>\n",
       "      <td>76</td>\n",
       "      <td>70</td>\n",
       "    </tr>\n",
       "    <tr>\n",
       "      <th>3</th>\n",
       "      <td>FMR310203601</td>\n",
       "      <td>789203</td>\n",
       "      <td>Rel Fresh</td>\n",
       "      <td>Vadodara</td>\n",
       "      <td>25891601</td>\n",
       "      <td>AM Tea 500</td>\n",
       "      <td>beverages</td>\n",
       "      <td>189</td>\n",
       "      <td>Wednesday</td>\n",
       "      <td>09-03-2022</td>\n",
       "      <td>03-2022</td>\n",
       "      <td>W 11</td>\n",
       "      <td>Thursday</td>\n",
       "      <td>10-03-2022</td>\n",
       "      <td>Thursday</td>\n",
       "      <td>10-03-2022</td>\n",
       "      <td>180</td>\n",
       "      <td>0</td>\n",
       "      <td>1</td>\n",
       "      <td>0</td>\n",
       "      <td>92</td>\n",
       "      <td>76</td>\n",
       "      <td>70</td>\n",
       "    </tr>\n",
       "    <tr>\n",
       "      <th>4</th>\n",
       "      <td>FMR311203603</td>\n",
       "      <td>789203</td>\n",
       "      <td>Rel Fresh</td>\n",
       "      <td>Vadodara</td>\n",
       "      <td>25891601</td>\n",
       "      <td>AM Tea 500</td>\n",
       "      <td>beverages</td>\n",
       "      <td>70</td>\n",
       "      <td>Thursday</td>\n",
       "      <td>10-03-2022</td>\n",
       "      <td>03-2022</td>\n",
       "      <td>W 11</td>\n",
       "      <td>Friday</td>\n",
       "      <td>11-03-2022</td>\n",
       "      <td>Friday</td>\n",
       "      <td>11-03-2022</td>\n",
       "      <td>70</td>\n",
       "      <td>1</td>\n",
       "      <td>1</td>\n",
       "      <td>1</td>\n",
       "      <td>92</td>\n",
       "      <td>76</td>\n",
       "      <td>70</td>\n",
       "    </tr>\n",
       "  </tbody>\n",
       "</table>\n",
       "</div>"
      ],
      "text/plain": [
       "       order_id customer_id customer_name      city product_id product_name   category  order_qty dow_placement placement_date monthly_year week_month dow_agreed agreed_date dow_actual_delivery delivery_date  delivery_qty  in_full  on_time  on_time_in_full  ontime_target%  infull_target%  otif_target%\n",
       "0   FMR34203601      789203     Rel Fresh  Vadodara   25891601   AM Tea 500  beverages        110       Tuesday     01-03-2022      03-2022       W 10     Friday  04-03-2022              Friday    04-03-2022           110        1        1                1              92              76            70\n",
       "1   FMR35203601      789203     Rel Fresh  Vadodara   25891601   AM Tea 500  beverages         55     Wednesday     02-03-2022      03-2022       W 10   Saturday  05-03-2022            Saturday    05-03-2022            55        1        1                1              92              76            70\n",
       "2   FMR39203601      789203     Rel Fresh  Vadodara   25891601   AM Tea 500  beverages        102        Sunday     06-03-2022      03-2022       W 11  Wednesday  09-03-2022           Wednesday    09-03-2022           102        1        1                1              92              76            70\n",
       "3  FMR310203601      789203     Rel Fresh  Vadodara   25891601   AM Tea 500  beverages        189     Wednesday     09-03-2022      03-2022       W 11   Thursday  10-03-2022            Thursday    10-03-2022           180        0        1                0              92              76            70\n",
       "4  FMR311203603      789203     Rel Fresh  Vadodara   25891601   AM Tea 500  beverages         70      Thursday     10-03-2022      03-2022       W 11     Friday  11-03-2022              Friday    11-03-2022            70        1        1                1              92              76            70"
      ]
     },
     "execution_count": 19,
     "metadata": {},
     "output_type": "execute_result"
    }
   ],
   "source": [
    "df_full.head()"
   ]
  },
  {
   "cell_type": "code",
   "execution_count": 156,
   "metadata": {},
   "outputs": [],
   "source": [
    "# df_full.loc[:, ['customer_name', 'on_time_in_full', 'otif_target%']].groupby(['customer_name', 'on_time_in_full', 'otif_target%']).sum().reset_index()\n",
    "customer_unique = df_full.groupby('customer_name')['otif_target%'].unique().reset_index()\n",
    "city_unique = df_full.groupby('city')['otif_target%'].unique().reset_index()"
   ]
  },
  {
   "cell_type": "code",
   "execution_count": 41,
   "metadata": {},
   "outputs": [
    {
     "data": {
      "image/png": "[encoded data removed]",
      "text/plain": [
       "<Figure size 2200x1200 with 2 Axes>"
      ]
     },
     "metadata": {},
     "output_type": "display_data"
    }
   ],
   "source": [
    "plt.subplot (2, 2, 1);\n",
    "sns.boxplot (x = 'city', y = 'otif_target%', data = df_full);\n",
    "plt.xlabel('Cidade');\n",
    "plt.ylabel('OTIF Target %');\n",
    "plt.title('Distribuição do OTIF por Cidade');\n",
    "\n",
    "plt.subplot(2, 2, 2);\n",
    "sns.boxplot (x = 'customer_name', y = 'otif_target%', data = df_full);\n",
    "plt.xlabel('Cidade');\n",
    "plt.ylabel('OTIF Target %');\n",
    "plt.title('Distribuição do OTIF por Cliente');\n",
    "plt.xticks(rotation=90);"
   ]
  },
  {
   "cell_type": "markdown",
   "metadata": {},
   "source": [
    "##### Distribuição OTIF% Cidade\n",
    "\n",
    "Conforme observado no gráfico acima, em relação à cidade de Surat, os dados revelam que o valor mínimo é aproximadamente 51, a mediana é 69 e o máximo é 74, indicando o melhor desempenho. Por outro lado, a cidade de Vadodara registrou as as taxas mais baixas de entrega dentro do prazo e completa, com um valor mínimo de aproximandamente 49, mediana de 66 e máximo de 71, demonstrando o pior desempenho.\n",
    "\n",
    "Essa alta concentração de valores acima da mediana sugere que a cidade de Surat está atingindo altas taxas de entrega dentro do prazo e completa, enquanto Vadodara enfrenta desafios para alcançar o mesmo nível de desempenho. \n",
    "\n",
    "Entretanto, dado o entendimento da importância para uma empresa em entregar os pedidos aos clientes de forma pontual e completa, uma taxa de 74% (o registro mais alto) pode ser considerada baixa. Nesse sentido, é possível que a empresa busque estratégias para alcançar resultados ainda melhores."
   ]
  },
  {
   "cell_type": "markdown",
   "metadata": {},
   "source": [
    "##### Distribuição OTIF% Clientes\n",
    "\n",
    "A distribuição da porcentagem da meta OTIF revela que as melhores taxas foram estabelecidas para entregas para as empresas Chipter Stores, Viveks Stores e Expert Mart, todas com valores mínimos de aproximadamente 70%.\n",
    "\n",
    "Quanto às piores taxas, é possível notar que as empresas Lotus Mart, Coolblue e Acclaimed Stores tiveram metas estabelecidas que nem alcançaram os 65% da porcentagem da meta OTIF."
   ]
  },
  {
   "cell_type": "markdown",
   "metadata": {},
   "source": [
    "# 2.0. Save Final Dataset"
   ]
  },
  {
   "cell_type": "code",
   "execution_count": null,
   "metadata": {},
   "outputs": [],
   "source": [
    "df_service_level = df_full.copy()\n",
    "df_service_level.to_csv('../dataset/service_level.csv', index=False)"
   ]
  }
 ],
 "metadata": {
  "kernelspec": {
   "display_name": "preditiva",
   "language": "python",
   "name": "python3"
  },
  "language_info": {
   "codemirror_mode": {
    "name": "ipython",
    "version": 3
   },
   "file_extension": ".py",
   "mimetype": "text/x-python",
   "name": "python",
   "nbconvert_exporter": "python",
   "pygments_lexer": "ipython3",
   "version": "3.10.7"
  }
 },
 "nbformat": 4,
 "nbformat_minor": 2
}
